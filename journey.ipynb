{
 "cells": [
  {
   "cell_type": "markdown",
   "id": "534a06d2-7173-4414-be9e-128a850e401e",
   "metadata": {},
   "source": [
    "# Journey"
   ]
  },
  {
   "cell_type": "markdown",
   "id": "c90d161b-0b7b-4931-aba6-7e23deb2b5db",
   "metadata": {},
   "source": [
    "---\n",
    "## Setup"
   ]
  },
  {
   "cell_type": "markdown",
   "id": "e2ff45b3-e4c8-4d44-acf7-473707513938",
   "metadata": {},
   "source": [
    "### Import Modules"
   ]
  },
  {
   "cell_type": "code",
   "execution_count": 15,
   "id": "756ecb53-0feb-4a52-af6f-99c1a654bd27",
   "metadata": {},
   "outputs": [],
   "source": [
    "import os\n",
    "import pandas as pd\n",
    "import datetime\n",
    "import matplotlib.pyplot as plt"
   ]
  },
  {
   "cell_type": "markdown",
   "id": "3059e326-7d8f-402d-861b-b9a8181edb5f",
   "metadata": {},
   "source": [
    "### Configure Modules"
   ]
  },
  {
   "cell_type": "code",
   "execution_count": 193,
   "id": "ff1f0634-1028-4ec4-a5bf-16d4ef82ddd8",
   "metadata": {},
   "outputs": [],
   "source": [
    "#print(plt.rcParams.keys())\n",
    "\n",
    "FONTSIZE = 14\n",
    "\n",
    "plt.rcParams[\"axes.facecolor\"]    = \"white\"\n",
    "plt.rcParams[\"savefig.facecolor\"] = \"white\"\n",
    "plt.rcParams[\"savefig.dpi\"]       = 400\n",
    "plt.rcParams[\"savefig.bbox\"]       = \"tight\"\n",
    "plt.rcParams[\"svg.fonttype\"]      = 'none'\n",
    "plt.rcParams[\"font.size\"]         = FONTSIZE\n",
    "plt.rcParams[\"lines.linewidth\"]   = 1"
   ]
  },
  {
   "cell_type": "markdown",
   "id": "20b69251-66a2-4fb7-803b-edacd15dc636",
   "metadata": {},
   "source": [
    "### Import Data"
   ]
  },
  {
   "cell_type": "code",
   "execution_count": 341,
   "id": "bbb0093b-24e3-4548-839c-da8e694e6666",
   "metadata": {},
   "outputs": [
    {
     "data": {
      "text/html": [
       "<div>\n",
       "<style scoped>\n",
       "    .dataframe tbody tr th:only-of-type {\n",
       "        vertical-align: middle;\n",
       "    }\n",
       "\n",
       "    .dataframe tbody tr th {\n",
       "        vertical-align: top;\n",
       "    }\n",
       "\n",
       "    .dataframe thead th {\n",
       "        text-align: right;\n",
       "    }\n",
       "</style>\n",
       "<table border=\"1\" class=\"dataframe\">\n",
       "  <thead>\n",
       "    <tr style=\"text-align: right;\">\n",
       "      <th></th>\n",
       "      <th>date</th>\n",
       "      <th>time</th>\n",
       "      <th>meal</th>\n",
       "    </tr>\n",
       "  </thead>\n",
       "  <tbody>\n",
       "    <tr>\n",
       "      <th>0</th>\n",
       "      <td>2021-09-07</td>\n",
       "      <td>09:30</td>\n",
       "      <td>Breakfast</td>\n",
       "    </tr>\n",
       "    <tr>\n",
       "      <th>1</th>\n",
       "      <td>2021-09-07</td>\n",
       "      <td>13:00</td>\n",
       "      <td>Lunch</td>\n",
       "    </tr>\n",
       "    <tr>\n",
       "      <th>2</th>\n",
       "      <td>2021-09-07</td>\n",
       "      <td>18:30</td>\n",
       "      <td>Supper</td>\n",
       "    </tr>\n",
       "    <tr>\n",
       "      <th>3</th>\n",
       "      <td>2021-09-08</td>\n",
       "      <td>09:30</td>\n",
       "      <td>Breakfast</td>\n",
       "    </tr>\n",
       "    <tr>\n",
       "      <th>4</th>\n",
       "      <td>2021-09-08</td>\n",
       "      <td>13:00</td>\n",
       "      <td>Lunch</td>\n",
       "    </tr>\n",
       "    <tr>\n",
       "      <th>5</th>\n",
       "      <td>2021-09-08</td>\n",
       "      <td>18:30</td>\n",
       "      <td>Supper</td>\n",
       "    </tr>\n",
       "  </tbody>\n",
       "</table>\n",
       "</div>"
      ],
      "text/plain": [
       "         date   time       meal\n",
       "0  2021-09-07  09:30  Breakfast\n",
       "1  2021-09-07  13:00      Lunch\n",
       "2  2021-09-07  18:30     Supper\n",
       "3  2021-09-08  09:30  Breakfast\n",
       "4  2021-09-08  13:00      Lunch\n",
       "5  2021-09-08  18:30     Supper"
      ]
     },
     "metadata": {},
     "output_type": "display_data"
    }
   ],
   "source": [
    "data_df = pd.read_csv(\"data.txt\", sep=\"\\t\")\n",
    "display(data_df)"
   ]
  },
  {
   "cell_type": "code",
   "execution_count": 348,
   "id": "60612d66-ba2a-416c-863c-d2cf61a9fd31",
   "metadata": {},
   "outputs": [
    {
     "name": "stdout",
     "output_type": "stream",
     "text": [
      "1900-01-01 09:30:00\n",
      "1900-01-01 13:00:00\n",
      "1900-01-01 18:30:00\n",
      "1900-01-01 09:30:00\n",
      "1900-01-01 13:00:00\n",
      "1900-01-01 18:30:00\n"
     ]
    },
    {
     "data": {
      "image/png": "[encoded data removed]",
      "text/plain": [
       "<Figure size 412.5x587.5 with 1 Axes>"
      ]
     },
     "metadata": {
      "needs_background": "light"
     },
     "output_type": "display_data"
    }
   ],
   "source": [
    "dpi = 50 # Low for testing\n",
    "ratio = 11.75 / 8.25\n",
    "figsize = [8.25, 11.75] #A4 Paper Dimensions\n",
    "time_start = 7\n",
    "time_end = 25\n",
    "\n",
    "fig, ax = plt.subplots(1, dpi=dpi, figsize=figsize)\n",
    "\n",
    "# Hide Axis Ticks\n",
    "ax.axis(\"off\")\n",
    "\n",
    "# Draw frame    \n",
    "x = [0, 0, 1, 1, 0]\n",
    "y = [0, 1, 1, 0, 0]\n",
    "ax.plot(x, y, c=\"black\")\n",
    "\n",
    "# Day dividers\n",
    "y = [0.25, 0.5, 0.75]\n",
    "for coord in y:\n",
    "    ax.plot([0,1], [y,y], c=\"black\")\n",
    "    \n",
    "# Date squares\n",
    "x_s, x_w = 0.02, 0.05\n",
    "y_s, y_h = 0.94, 0.04\n",
    "\n",
    "x_coords = [x_s, x_s, x_s + x_w, x_s + x_w, x_s]\n",
    "y_coords = [y_s, y_s + y_h, y_s + y_h, y_s, y_s]\n",
    "\n",
    "for adjust in [0, 0.25, 0.5, 0.75]:\n",
    "    x = x_coords\n",
    "    y = [c - adjust for c in y_coords]\n",
    "    ax.plot(x, y, c=\"black\")\n",
    "    \n",
    "# Date Numbers\n",
    "x, y = x_s, y_s\n",
    "\n",
    "# Iterate through each day\n",
    "for date in sorted(set(data_df[\"date\"])):\n",
    "    \n",
    "    date_df = data_df[data_df[\"date\"] == date]\n",
    "\n",
    "    # Date Box\n",
    "    entry_date = datetime.datetime.strptime(date, \"%Y-%m-%d\")\n",
    "    day = entry_date.day\n",
    "    month = entry_date.strftime(\"%b\")\n",
    "    x = x_s\n",
    "    ax.annotate(day, xy=[x + (x_w/4),y + (y_h/4)])\n",
    "    ax.annotate(month, xy=[x + (x_w * 1.2),y + (y_h/4)], fontsize=FONTSIZE-2)\n",
    "    \n",
    "    # Timeline\n",
    "    # End Points\n",
    "    time_maj_x = [x, x]\n",
    "    time_maj_y = [y - y_h, y - (y_h)* 2]\n",
    "    ax.plot(time_maj_x, time_maj_y, c=\"black\")\n",
    "    time_maj_x = [1-x_s, 1-x_s]\n",
    "    ax.plot(time_maj_x, time_maj_y, c=\"black\")\n",
    "    ax.plot([x, 1-x], [y - (y_h* 1.5), y - (y_h* 1.5)], c=\"black\",)\n",
    "\n",
    "    \n",
    "    # Minor Ticks\n",
    "    minor_ticks = time_end - time_start\n",
    "    intervals = 1-x_s - x_s\n",
    "    minor_x_adjust = intervals / (minor_ticks + 1)\n",
    "    for time in range(time_start, time_end):\n",
    "        x = x + minor_x_adjust\n",
    "        ax.plot([x, x], [y-(y_h*1.25), y-(y_h*1.75)], c=\"black\",)\n",
    "        ax.annotate(time, xy=[x-(x_w/8),y-(y_h*2.25)], fontsize=FONTSIZE-8)\n",
    "    # Reset x\n",
    "    x = x_s\n",
    "    \n",
    "    # Iterate through each time\n",
    "    for str_meal_time in sorted(set(date_df[\"time\"])):\n",
    "        meal_time = datetime.datetime.strptime(str_meal_time, \"%H:%M\")\n",
    "        print(meal_time)\n",
    "        \n",
    "    # Adjust new y position for new day\n",
    "    y = y-0.25\n",
    "\n",
    "\n",
    "plt.savefig(\"page.pdf\")"
   ]
  },
  {
   "cell_type": "code",
   "execution_count": null,
   "id": "a3ca45c0-fd8c-4a1f-9f95-ee6a3af7e205",
   "metadata": {},
   "outputs": [],
   "source": []
  }
 ],
 "metadata": {
  "kernelspec": {
   "display_name": "Python 3 (ipykernel)",
   "language": "python",
   "name": "python3"
  },
  "language_info": {
   "codemirror_mode": {
    "name": "ipython",
    "version": 3
   },
   "file_extension": ".py",
   "mimetype": "text/x-python",
   "name": "python",
   "nbconvert_exporter": "python",
   "pygments_lexer": "ipython3",
   "version": "3.9.7"
  }
 },
 "nbformat": 4,
 "nbformat_minor": 5
}
